{
 "cells": [
  {
   "cell_type": "markdown",
   "metadata": {},
   "source": [
    "# HOW TO GET IMAGE INFORMATION ?"
   ]
  },
  {
   "cell_type": "code",
   "execution_count": 1,
   "metadata": {},
   "outputs": [
    {
     "name": "stdout",
     "output_type": "stream",
     "text": [
      "(1280, 960, 3)\n"
     ]
    }
   ],
   "source": [
    "import cv2\n",
    "\n",
    "img = cv2.imread(\"players.jfif\")\n",
    "\n",
    "cv2.imshow(\"Hello World\",img)\n",
    "\n",
    "cv2.waitKey(0)\n",
    "\n",
    "print(img.shape)\n",
    "\n",
    "#print(\"Height of the image: \", int(img.shape[0]), \"pixels\")\n",
    "#print(\"Width of the image: \", int(img.shape[1]), \"pixels\")\n",
    "\n",
    "\n",
    "cv2.destroyAllWindows()"
   ]
  },
  {
   "cell_type": "code",
   "execution_count": 2,
   "metadata": {},
   "outputs": [
    {
     "data": {
      "text/plain": [
       "array([[[122, 158, 182],\n",
       "        [122, 158, 182],\n",
       "        [122, 158, 182],\n",
       "        ...,\n",
       "        [128, 165, 193],\n",
       "        [128, 165, 193],\n",
       "        [128, 165, 193]],\n",
       "\n",
       "       [[122, 158, 182],\n",
       "        [122, 158, 182],\n",
       "        [122, 158, 182],\n",
       "        ...,\n",
       "        [128, 165, 193],\n",
       "        [128, 165, 193],\n",
       "        [128, 165, 193]],\n",
       "\n",
       "       [[122, 158, 182],\n",
       "        [122, 158, 182],\n",
       "        [122, 158, 182],\n",
       "        ...,\n",
       "        [128, 165, 193],\n",
       "        [128, 165, 193],\n",
       "        [128, 165, 193]],\n",
       "\n",
       "       ...,\n",
       "\n",
       "       [[ 96, 207, 255],\n",
       "        [ 95, 206, 255],\n",
       "        [ 94, 205, 255],\n",
       "        ...,\n",
       "        [ 96, 176, 229],\n",
       "        [101, 179, 232],\n",
       "        [100, 178, 231]],\n",
       "\n",
       "       [[ 95, 206, 255],\n",
       "        [ 94, 205, 255],\n",
       "        [ 93, 204, 254],\n",
       "        ...,\n",
       "        [ 93, 173, 226],\n",
       "        [ 98, 176, 229],\n",
       "        [103, 181, 234]],\n",
       "\n",
       "       [[ 95, 206, 255],\n",
       "        [ 94, 205, 255],\n",
       "        [ 93, 204, 254],\n",
       "        ...,\n",
       "        [ 91, 171, 224],\n",
       "        [ 95, 173, 226],\n",
       "        [105, 183, 236]]], dtype=uint8)"
      ]
     },
     "execution_count": 2,
     "metadata": {},
     "output_type": "execute_result"
    }
   ],
   "source": [
    "img"
   ]
  },
  {
   "cell_type": "code",
   "execution_count": 5,
   "metadata": {},
   "outputs": [
    {
     "name": "stdout",
     "output_type": "stream",
     "text": [
      "(1280, 960, 3)\n",
      "1280\n",
      "960\n",
      "3\n"
     ]
    }
   ],
   "source": [
    "print(img.shape)\n",
    "print(img.shape[0])\n",
    "print(img.shape[1])\n",
    "print(img.shape[2])"
   ]
  },
  {
   "cell_type": "code",
   "execution_count": 6,
   "metadata": {},
   "outputs": [
    {
     "name": "stdout",
     "output_type": "stream",
     "text": [
      "(1280, 960, 3)\n",
      "Height of the image:  1280 pixels\n",
      "Width of the image:  960 pixels\n"
     ]
    }
   ],
   "source": [
    "import cv2\n",
    "\n",
    "img = cv2.imread(\"players.jfif\")\n",
    "\n",
    "cv2.imshow(\"Hello World\",img)\n",
    "\n",
    "cv2.waitKey(0)\n",
    "\n",
    "print(img.shape)\n",
    "\n",
    "print(\"Height of the image: \", int(img.shape[0]), \"pixels\")\n",
    "print(\"Width of the image: \", int(img.shape[1]), \"pixels\")\n",
    "\n",
    "\n",
    "cv2.destroyAllWindows()"
   ]
  },
  {
   "cell_type": "code",
   "execution_count": 7,
   "metadata": {},
   "outputs": [
    {
     "name": "stdout",
     "output_type": "stream",
     "text": [
      "(1280, 960, 3)\n",
      "Height of the image: 1280 pixels\n",
      "Width of the image: 960 pixels\n"
     ]
    }
   ],
   "source": [
    "import cv2\n",
    "\n",
    "img = cv2.imread(\"players.jfif\")\n",
    "\n",
    "cv2.imshow(\"Hello World\",img)\n",
    "\n",
    "cv2.waitKey(0)\n",
    "\n",
    "print(img.shape)\n",
    "\n",
    "print(\"Height of the image: {} pixels\".format(img.shape[0]))\n",
    "print(\"Width of the image: {} pixels\".format(img.shape[1]))\n",
    "\n",
    "\n",
    "cv2.destroyAllWindows()"
   ]
  },
  {
   "cell_type": "code",
   "execution_count": null,
   "metadata": {},
   "outputs": [],
   "source": []
  }
 ],
 "metadata": {
  "kernelspec": {
   "display_name": "Python 3",
   "language": "python",
   "name": "python3"
  },
  "language_info": {
   "codemirror_mode": {
    "name": "ipython",
    "version": 3
   },
   "file_extension": ".py",
   "mimetype": "text/x-python",
   "name": "python",
   "nbconvert_exporter": "python",
   "pygments_lexer": "ipython3",
   "version": "3.7.3"
  }
 },
 "nbformat": 4,
 "nbformat_minor": 2
}
