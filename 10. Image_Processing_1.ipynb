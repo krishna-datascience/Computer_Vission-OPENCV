{
 "cells": [
  {
   "cell_type": "code",
   "execution_count": 1,
   "metadata": {},
   "outputs": [],
   "source": [
    "import cv2\n",
    "#import numpy as np\n",
    "\n",
    "img = cv2.imread(\"lena.jpg\",0)\n",
    "\n",
    "ret, th = cv2.threshold(img, 125, 255, cv2.THRESH_BINARY)\n",
    "ret, th1 = cv2.threshold(img, 125, 255, cv2.THRESH_BINARY_INV)\n",
    "\n",
    "cv2.imshow(\"Hello World1\",img)\n",
    "cv2.imshow(\"Hello World2\",th)\n",
    "cv2.imshow(\"Hello World3\",th1)\n",
    "\n",
    "cv2.waitKey(0)\n",
    "\n",
    "cv2.destroyAllWindows()"
   ]
  },
  {
   "cell_type": "code",
   "execution_count": 2,
   "metadata": {},
   "outputs": [
    {
     "name": "stdout",
     "output_type": "stream",
     "text": [
      "(512, 512, 3)\n",
      "Height of the image:  512 pixels\n",
      "Width of the image:  512 pixels\n"
     ]
    }
   ],
   "source": [
    "import cv2\n",
    "\n",
    "img = cv2.imread(\"lena.jpg\")\n",
    "\n",
    "cv2.imshow(\"Hello World\",img)\n",
    "\n",
    "cv2.waitKey(0)\n",
    "\n",
    "print(img.shape)\n",
    "\n",
    "print(\"Height of the image: \", int(img.shape[0]), \"pixels\")\n",
    "print(\"Width of the image: \", int(img.shape[1]), \"pixels\")\n",
    "\n",
    "cv2.imwrite(\"Output.jpg\",img)\n",
    "cv2.imwrite(\"Output.png\",img)\n",
    "\n",
    "cv2.destroyAllWindows()\n"
   ]
  },
  {
   "cell_type": "code",
   "execution_count": 3,
   "metadata": {},
   "outputs": [],
   "source": [
    "import cv2\n",
    "\n",
    "img = cv2.imread('lena.jpg')\n",
    "cv2.imshow('Orignal', img)\n",
    "cv2.waitKey(0)\n",
    "\n",
    "gray_img = cv2.cvtColor(img, cv2.COLOR_BGR2GRAY)\n",
    "\n",
    "cv2.imshow('Grayscale', gray_img)\n",
    "cv2.waitKey(0)\n",
    "cv2.destroyAllWindows()"
   ]
  },
  {
   "cell_type": "code",
   "execution_count": 4,
   "metadata": {},
   "outputs": [],
   "source": [
    "import cv2\n",
    "\n",
    "img = cv2.imread('lena.jpg', 0)\n",
    "\n",
    "cv2.imshow('grayscale', img)\n",
    "\n",
    "cv2.waitKey(0)\n",
    "\n",
    "cv2.destroyAllWindows()"
   ]
  },
  {
   "cell_type": "code",
   "execution_count": 5,
   "metadata": {},
   "outputs": [
    {
     "name": "stdout",
     "output_type": "stream",
     "text": [
      "128 138 225\n",
      "(512, 512, 3)\n",
      "(512, 512)\n",
      "163\n"
     ]
    }
   ],
   "source": [
    "import cv2\n",
    "\n",
    "img = cv2.imread('lena.jpg')\n",
    "\n",
    "B,G,R = img[0,0]\n",
    "\n",
    "print(B, G, R)\n",
    "print(img.shape)\n",
    "\n",
    "gray = cv2.cvtColor(img, cv2.COLOR_BGR2GRAY)\n",
    "print(gray.shape)\n",
    "print(gray[0,0])"
   ]
  },
  {
   "cell_type": "code",
   "execution_count": 6,
   "metadata": {},
   "outputs": [],
   "source": [
    "#Color Filter, Color Space\n",
    "# Hue : 0 - 180, Saturation : 0 - 255, Value : 0 - 255\n",
    "import cv2\n",
    "\n",
    "img = cv2.imread('lena.jpg')\n",
    "\n",
    "img_HSV = cv2.cvtColor(img, cv2.COLOR_BGR2HSV)\n",
    "\n",
    "cv2.imshow('HSV Image', img_HSV)\n",
    "\n",
    "cv2.imshow('Hue Channel ', img_HSV[:, :, 0])\n",
    "cv2.imshow('Saturation  ', img_HSV[:, :, 1])\n",
    "cv2.imshow('Value Channel ', img_HSV[:, :, 2])\n",
    "\n",
    "cv2.waitKey(0)\n",
    "\n",
    "cv2.destroyAllWindows()"
   ]
  },
  {
   "cell_type": "code",
   "execution_count": 7,
   "metadata": {},
   "outputs": [],
   "source": [
    "import cv2\n",
    "\n",
    "img = cv2.imread('lena.jpg')\n",
    "\n",
    "#Split function splits the image into each color index\n",
    "\n",
    "B,G,R = cv2.split(img)\n",
    "\n",
    "cv2.imshow('RGB Image', img)\n",
    "\n",
    "cv2.imshow('Red Channel ', R)\n",
    "cv2.imshow('Green Channel ', G)\n",
    "cv2.imshow('Blue Channel ', B)\n",
    "\n",
    "cv2.waitKey(0)\n",
    "cv2.destroyAllWindows()\n",
    "\n",
    "\n",
    "# Let's remake the original image\n",
    "merged = cv2.merge([B, G, R])\n",
    "cv2.imshow('Merged', merged)\n",
    "\n",
    "\n",
    "#Lets apply the blue color\n",
    "\n",
    "merged1 = cv2.merge([B+100, G, R])\n",
    "cv2.imshow('Merged with Blue', merged1)\n",
    "\n",
    "cv2.waitKey(0)\n",
    "cv2.destroyAllWindows()\n"
   ]
  },
  {
   "cell_type": "code",
   "execution_count": null,
   "metadata": {},
   "outputs": [],
   "source": []
  },
  {
   "cell_type": "code",
   "execution_count": 8,
   "metadata": {},
   "outputs": [
    {
     "data": {
      "text/plain": [
       "<Figure size 640x480 with 1 Axes>"
      ]
     },
     "metadata": {},
     "output_type": "display_data"
    },
    {
     "data": {
      "text/plain": [
       "<Figure size 640x480 with 1 Axes>"
      ]
     },
     "metadata": {},
     "output_type": "display_data"
    }
   ],
   "source": [
    "import cv2\n",
    "import numpy as np\n",
    "import matplotlib.pyplot as plt\n",
    "\n",
    "img = cv2.imread('lena.jpg')\n",
    "\n",
    "histogram = cv2.calcHist([img], [0], None, [256], [0, 256])\n",
    "\n",
    "plt.hist(img.ravel(), 256, [0, 256]);\n",
    "plt.show()\n",
    "\n",
    "color = ('b', 'g', 'r')\n",
    "\n",
    "for i, col in enumerate(color):\n",
    "    histogram2 = cv2.calcHist([img], [i], None, [256], [0, 256])\n",
    "    plt.plot(histogram2, color=  col)\n",
    "    plt.xlim([0,256])\n",
    "\n",
    "plt.show()\n",
    "\n",
    "cv2.imshow('image', img)\n",
    "cv2.waitKey(0)\n",
    "cv2.destroyAllWindows()"
   ]
  },
  {
   "cell_type": "markdown",
   "metadata": {},
   "source": []
  },
  {
   "cell_type": "code",
   "execution_count": null,
   "metadata": {},
   "outputs": [],
   "source": []
  }
 ],
 "metadata": {
  "kernelspec": {
   "display_name": "Python 3",
   "language": "python",
   "name": "python3"
  },
  "language_info": {
   "codemirror_mode": {
    "name": "ipython",
    "version": 3
   },
   "file_extension": ".py",
   "mimetype": "text/x-python",
   "name": "python",
   "nbconvert_exporter": "python",
   "pygments_lexer": "ipython3",
   "version": "3.7.3"
  }
 },
 "nbformat": 4,
 "nbformat_minor": 2
}
