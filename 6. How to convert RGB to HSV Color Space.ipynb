{
 "cells": [
  {
   "cell_type": "markdown",
   "metadata": {},
   "source": [
    "# How to convert RGB to HSV Color Space ?"
   ]
  },
  {
   "cell_type": "code",
   "execution_count": 1,
   "metadata": {},
   "outputs": [
    {
     "name": "stdout",
     "output_type": "stream",
     "text": [
      "original_img (1280, 960, 3)\n",
      "HSV_Img (1280, 960, 3)\n"
     ]
    }
   ],
   "source": [
    "import cv2\n",
    "\n",
    "img = cv2.imread('players.jfif')\n",
    "\n",
    "cv2.imshow(\"abc\",img)\n",
    "print(\"original_img {}\".format(img.shape))\n",
    "cv2.waitKey(0)\n",
    "\n",
    "\n",
    "\n",
    "img_HSV = cv2.cvtColor(img, cv2.COLOR_BGR2HSV)\n",
    "print(\"HSV_Img {}\".format(img_HSV.shape))\n",
    "cv2.imshow('HSV Image', img_HSV)\n",
    "\n",
    "cv2.waitKey(0)\n",
    "\n",
    "cv2.destroyAllWindows()"
   ]
  },
  {
   "cell_type": "code",
   "execution_count": null,
   "metadata": {},
   "outputs": [],
   "source": []
  },
  {
   "cell_type": "code",
   "execution_count": 2,
   "metadata": {},
   "outputs": [
    {
     "name": "stdout",
     "output_type": "stream",
     "text": [
      "(1280, 960, 3)\n"
     ]
    }
   ],
   "source": [
    "#Color Filter, Color Space\n",
    "# Hue : 0 - 180, Saturation : 0 - 255, Value : 0 - 255\n",
    "import cv2\n",
    "\n",
    "img = cv2.imread('players.jfif')\n",
    "\n",
    "img_HSV = cv2.cvtColor(img, cv2.COLOR_BGR2HSV)\n",
    "print(img_HSV.shape)\n",
    "cv2.imshow('HSV Image', img_HSV)\n",
    "cv2.waitKey(0)\n",
    "\n",
    "cv2.imshow('Hue Channel ', img_HSV[:, :, 0])\n",
    "cv2.waitKey(0)\n",
    "cv2.imshow('Saturation  ', img_HSV[:, :, 1])\n",
    "cv2.waitKey(0)\n",
    "cv2.imshow('Value Channel ', img_HSV[:, :, 2])\n",
    "\n",
    "cv2.waitKey(0)\n",
    "\n",
    "cv2.destroyAllWindows()"
   ]
  },
  {
   "cell_type": "code",
   "execution_count": null,
   "metadata": {},
   "outputs": [],
   "source": []
  },
  {
   "cell_type": "code",
   "execution_count": null,
   "metadata": {},
   "outputs": [],
   "source": []
  }
 ],
 "metadata": {
  "kernelspec": {
   "display_name": "Python 3",
   "language": "python",
   "name": "python3"
  },
  "language_info": {
   "codemirror_mode": {
    "name": "ipython",
    "version": 3
   },
   "file_extension": ".py",
   "mimetype": "text/x-python",
   "name": "python",
   "nbconvert_exporter": "python",
   "pygments_lexer": "ipython3",
   "version": "3.7.3"
  }
 },
 "nbformat": 4,
 "nbformat_minor": 2
}
