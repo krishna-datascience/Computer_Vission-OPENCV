{
 "cells": [
  {
   "cell_type": "markdown",
   "metadata": {},
   "source": [
    "# How to convert RGB to Binary Image ?"
   ]
  },
  {
   "cell_type": "code",
   "execution_count": 5,
   "metadata": {},
   "outputs": [],
   "source": [
    "import cv2\n",
    "img = cv2.imread(\"players.jfif\",0)\n",
    "\n",
    "ret, th = cv2.threshold(img, 125, 255, cv2.THRESH_BINARY)\n",
    "ret, th1 = cv2.threshold(img, 125, 255, cv2.THRESH_BINARY_INV)\n",
    "\n",
    "cv2.imshow(\"Hello World1\",img)\n",
    "cv2.waitKey(0)\n",
    "cv2.imshow(\"Hello World2\",th)\n",
    "\n",
    "cv2.waitKey(0)\n",
    "cv2.imshow(\"Hello World3\",th1)\n",
    "\n",
    "cv2.waitKey(0)\n",
    "\n",
    "cv2.destroyAllWindows()"
   ]
  },
  {
   "cell_type": "code",
   "execution_count": 4,
   "metadata": {},
   "outputs": [
    {
     "data": {
      "text/plain": [
       "(1280, 960)"
      ]
     },
     "execution_count": 4,
     "metadata": {},
     "output_type": "execute_result"
    }
   ],
   "source": [
    "th1.shape"
   ]
  },
  {
   "cell_type": "code",
   "execution_count": 6,
   "metadata": {},
   "outputs": [
    {
     "name": "stdout",
     "output_type": "stream",
     "text": [
      "Original image (1280, 960, 3).\n",
      "Gray Image (1280, 960). \n"
     ]
    }
   ],
   "source": [
    "img = cv2.imread('players.jfif')\n",
    "cv2.imshow('Orignal', img)\n",
    "print(\"Original image {}.\".format(img.shape))\n",
    "cv2.waitKey(0)\n",
    "#cv2.destroyAllWindows()\n",
    "gray_img = cv2.cvtColor(img, cv2.COLOR_BGR2GRAY)\n",
    "print(\"Gray Image {}. \".format(gray_img.shape))\n",
    "cv2.imshow('Grayscale', gray_img)\n",
    "cv2.waitKey(0)\n",
    "\n",
    "ret, th = cv2.threshold(gray_img, 125, 255, cv2.THRESH_BINARY)\n",
    "ret, th1 = cv2.threshold(gray_img, 125, 255, cv2.THRESH_BINARY_INV)\n",
    "\n",
    "\n",
    "cv2.imshow(\"Hello World2\",th)\n",
    "\n",
    "cv2.waitKey(0)\n",
    "cv2.imshow(\"Hello World3\",th1)\n",
    "\n",
    "cv2.waitKey(0)\n",
    "\n",
    "\n",
    "cv2.destroyAllWindows()"
   ]
  },
  {
   "cell_type": "code",
   "execution_count": null,
   "metadata": {},
   "outputs": [],
   "source": []
  }
 ],
 "metadata": {
  "kernelspec": {
   "display_name": "Python 3",
   "language": "python",
   "name": "python3"
  },
  "language_info": {
   "codemirror_mode": {
    "name": "ipython",
    "version": 3
   },
   "file_extension": ".py",
   "mimetype": "text/x-python",
   "name": "python",
   "nbconvert_exporter": "python",
   "pygments_lexer": "ipython3",
   "version": "3.7.3"
  }
 },
 "nbformat": 4,
 "nbformat_minor": 2
}
