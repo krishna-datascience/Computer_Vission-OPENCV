{
 "cells": [
  {
   "cell_type": "raw",
   "metadata": {},
   "source": [
    "! pip install opencv-python\n",
    "! pip install opencv-contrib-python"
   ]
  },
  {
   "cell_type": "markdown",
   "metadata": {},
   "source": [
    "# HOW TO READ AN IMAGE ?"
   ]
  },
  {
   "cell_type": "code",
   "execution_count": 3,
   "metadata": {},
   "outputs": [
    {
     "data": {
      "text/plain": [
       "array([[[122, 158, 182],\n",
       "        [122, 158, 182],\n",
       "        [122, 158, 182],\n",
       "        ...,\n",
       "        [128, 165, 193],\n",
       "        [128, 165, 193],\n",
       "        [128, 165, 193]],\n",
       "\n",
       "       [[122, 158, 182],\n",
       "        [122, 158, 182],\n",
       "        [122, 158, 182],\n",
       "        ...,\n",
       "        [128, 165, 193],\n",
       "        [128, 165, 193],\n",
       "        [128, 165, 193]],\n",
       "\n",
       "       [[122, 158, 182],\n",
       "        [122, 158, 182],\n",
       "        [122, 158, 182],\n",
       "        ...,\n",
       "        [128, 165, 193],\n",
       "        [128, 165, 193],\n",
       "        [128, 165, 193]],\n",
       "\n",
       "       ...,\n",
       "\n",
       "       [[ 96, 207, 255],\n",
       "        [ 95, 206, 255],\n",
       "        [ 94, 205, 255],\n",
       "        ...,\n",
       "        [ 96, 176, 229],\n",
       "        [101, 179, 232],\n",
       "        [100, 178, 231]],\n",
       "\n",
       "       [[ 95, 206, 255],\n",
       "        [ 94, 205, 255],\n",
       "        [ 93, 204, 254],\n",
       "        ...,\n",
       "        [ 93, 173, 226],\n",
       "        [ 98, 176, 229],\n",
       "        [103, 181, 234]],\n",
       "\n",
       "       [[ 95, 206, 255],\n",
       "        [ 94, 205, 255],\n",
       "        [ 93, 204, 254],\n",
       "        ...,\n",
       "        [ 91, 171, 224],\n",
       "        [ 95, 173, 226],\n",
       "        [105, 183, 236]]], dtype=uint8)"
      ]
     },
     "execution_count": 3,
     "metadata": {},
     "output_type": "execute_result"
    }
   ],
   "source": [
    "import cv2\n",
    "\n",
    "img = cv2.imread(\"players.jfif\")\n",
    "img\n"
   ]
  },
  {
   "cell_type": "code",
   "execution_count": 2,
   "metadata": {},
   "outputs": [],
   "source": [
    "\n",
    "img = cv2.imread(\"players.jfif\")\n",
    "cv2.imshow(\"output\",img)\n",
    "\n",
    "cv2.waitKey(0)\n",
    "cv2.destroyAllWindows()"
   ]
  },
  {
   "cell_type": "code",
   "execution_count": null,
   "metadata": {},
   "outputs": [],
   "source": []
  }
 ],
 "metadata": {
  "kernelspec": {
   "display_name": "Python 3",
   "language": "python",
   "name": "python3"
  },
  "language_info": {
   "codemirror_mode": {
    "name": "ipython",
    "version": 3
   },
   "file_extension": ".py",
   "mimetype": "text/x-python",
   "name": "python",
   "nbconvert_exporter": "python",
   "pygments_lexer": "ipython3",
   "version": "3.7.3"
  }
 },
 "nbformat": 4,
 "nbformat_minor": 2
}
