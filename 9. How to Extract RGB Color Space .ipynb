{
 "cells": [
  {
   "cell_type": "markdown",
   "metadata": {},
   "source": [
    "# # How to Extract RGB Color Space ?"
   ]
  },
  {
   "cell_type": "code",
   "execution_count": 7,
   "metadata": {},
   "outputs": [],
   "source": [
    "import numpy as np\n",
    "import cv2\n",
    "img = cv2.imread('players.jfif')\n",
    "\n",
    "\n",
    "B,G,R = cv2.split(img)\n",
    "\n",
    "zeros = np.zeros(img.shape[:2], dtype=\"uint8\")\n",
    "cv2.imshow(\"Red\", cv2.merge([zeros,zeros,R]))\n",
    "cv2.waitKey(0)\n",
    "cv2.imshow(\"Green\", cv2.merge([zeros,G,zeros]))\n",
    "cv2.waitKey(0)\n",
    "cv2.imshow(\"Blue\", cv2.merge([B,zeros,zeros]))\n",
    "cv2.waitKey(0)\n",
    "\n",
    "cv2.destroyAllWindows()"
   ]
  },
  {
   "cell_type": "code",
   "execution_count": 3,
   "metadata": {},
   "outputs": [
    {
     "data": {
      "text/plain": [
       "array([[122, 122, 122, ..., 128, 128, 128],\n",
       "       [122, 122, 122, ..., 128, 128, 128],\n",
       "       [122, 122, 122, ..., 128, 128, 128],\n",
       "       ...,\n",
       "       [ 96,  95,  94, ...,  96, 101, 100],\n",
       "       [ 95,  94,  93, ...,  93,  98, 103],\n",
       "       [ 95,  94,  93, ...,  91,  95, 105]], dtype=uint8)"
      ]
     },
     "execution_count": 3,
     "metadata": {},
     "output_type": "execute_result"
    }
   ],
   "source": [
    "B"
   ]
  },
  {
   "cell_type": "code",
   "execution_count": 4,
   "metadata": {},
   "outputs": [
    {
     "data": {
      "text/plain": [
       "array([[182, 182, 182, ..., 193, 193, 193],\n",
       "       [182, 182, 182, ..., 193, 193, 193],\n",
       "       [182, 182, 182, ..., 193, 193, 193],\n",
       "       ...,\n",
       "       [255, 255, 255, ..., 229, 232, 231],\n",
       "       [255, 255, 254, ..., 226, 229, 234],\n",
       "       [255, 255, 254, ..., 224, 226, 236]], dtype=uint8)"
      ]
     },
     "execution_count": 4,
     "metadata": {},
     "output_type": "execute_result"
    }
   ],
   "source": [
    "R"
   ]
  },
  {
   "cell_type": "code",
   "execution_count": 5,
   "metadata": {},
   "outputs": [
    {
     "data": {
      "text/plain": [
       "array([[158, 158, 158, ..., 165, 165, 165],\n",
       "       [158, 158, 158, ..., 165, 165, 165],\n",
       "       [158, 158, 158, ..., 165, 165, 165],\n",
       "       ...,\n",
       "       [207, 206, 205, ..., 176, 179, 178],\n",
       "       [206, 205, 204, ..., 173, 176, 181],\n",
       "       [206, 205, 204, ..., 171, 173, 183]], dtype=uint8)"
      ]
     },
     "execution_count": 5,
     "metadata": {},
     "output_type": "execute_result"
    }
   ],
   "source": [
    "G"
   ]
  },
  {
   "cell_type": "code",
   "execution_count": 6,
   "metadata": {},
   "outputs": [
    {
     "data": {
      "text/plain": [
       "array([[0, 0, 0, ..., 0, 0, 0],\n",
       "       [0, 0, 0, ..., 0, 0, 0],\n",
       "       [0, 0, 0, ..., 0, 0, 0],\n",
       "       ...,\n",
       "       [0, 0, 0, ..., 0, 0, 0],\n",
       "       [0, 0, 0, ..., 0, 0, 0],\n",
       "       [0, 0, 0, ..., 0, 0, 0]], dtype=uint8)"
      ]
     },
     "execution_count": 6,
     "metadata": {},
     "output_type": "execute_result"
    }
   ],
   "source": [
    "zeros"
   ]
  },
  {
   "cell_type": "code",
   "execution_count": null,
   "metadata": {},
   "outputs": [],
   "source": []
  }
 ],
 "metadata": {
  "kernelspec": {
   "display_name": "Python 3",
   "language": "python",
   "name": "python3"
  },
  "language_info": {
   "codemirror_mode": {
    "name": "ipython",
    "version": 3
   },
   "file_extension": ".py",
   "mimetype": "text/x-python",
   "name": "python",
   "nbconvert_exporter": "python",
   "pygments_lexer": "ipython3",
   "version": "3.7.3"
  }
 },
 "nbformat": 4,
 "nbformat_minor": 2
}
